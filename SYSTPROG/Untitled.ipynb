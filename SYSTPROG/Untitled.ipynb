{
 "cells": [
  {
   "cell_type": "markdown",
   "id": "3963d017",
   "metadata": {},
   "source": [
    "# 1. 응용 문제"
   ]
  },
  {
   "cell_type": "markdown",
   "id": "b377c99e",
   "metadata": {},
   "source": [
    "## Function"
   ]
  },
  {
   "cell_type": "markdown",
   "id": "a83b6382",
   "metadata": {},
   "source": [
    "### 1. 함수 정의"
   ]
  },
  {
   "cell_type": "code",
   "execution_count": 2,
   "id": "e1d07783",
   "metadata": {},
   "outputs": [],
   "source": [
    "def mul_list(data, start_in, end_in, prin):\n",
    "    if end_in is None:\n",
    "        m_data = data[start_in:]\n",
    "    else:\n",
    "        m_data = data[start_in:end_in+1]\n",
    "\n",
    "    if start_in is None:\n",
    "        m_data = data[:end_in+1]\n",
    "    else:\n",
    "        m_data = data[start_in:end_in+1]\n",
    "\n",
    "    mul = 1\n",
    "    a = 0\n",
    "    for ind, num in enumerate(m_data):\n",
    "        mul*=num\n",
    "\n",
    "    if prin:\n",
    "        print(\"m_data : \", m_data, \"\\nmul : \", mul)\n",
    "\n",
    "    return mul"
   ]
  },
  {
   "cell_type": "markdown",
   "id": "51e84612",
   "metadata": {},
   "source": [
    "### 2. Keyword Arguments"
   ]
  },
  {
   "cell_type": "code",
   "execution_count": 3,
   "id": "30d771bb",
   "metadata": {},
   "outputs": [
    {
     "name": "stdout",
     "output_type": "stream",
     "text": [
      "m_data :  [6, 8, 10] \n",
      "mul :  480\n"
     ]
    }
   ],
   "source": [
    "data = [2, 4, 6, 8, 10]\n",
    "M = mul_list(data, 2, 4, True)"
   ]
  },
  {
   "cell_type": "code",
   "execution_count": 4,
   "id": "c501018c",
   "metadata": {},
   "outputs": [
    {
     "name": "stdout",
     "output_type": "stream",
     "text": [
      " 입력 값이 어느 입력인자로 들어가야 하는지 명시적으로 보여줄 수 있다. 이렇게 입력하는 인자를 keyword argument (키워드 인자)라 한다.\n",
      "\n",
      "키워드 인자는 반드시 위치 인자 뒤에 나와야 한다\n",
      "m_data :  [6, 8, 10] \n",
      "mul :  480\n",
      "m_data :  [6, 8, 10] \n",
      "mul :  480\n",
      "m_data :  [6, 8, 10] \n",
      "mul :  480\n",
      "m_data :  [6, 8, 10] \n",
      "mul :  480\n"
     ]
    }
   ],
   "source": [
    "print(\" 입력 값이 어느 입력인자로 들어가야 하는지 명시적으로 보여줄 수 있다. 이렇게 입력하는 인자를 keyword argument (키워드 인자)라 한다.\\n\")\n",
    "print(\"키워드 인자는 반드시 위치 인자 뒤에 나와야 한다\")\n",
    "M = mul_list(data, 2, 4, prin=True)\n",
    "M = mul_list(data, 2, end_in=4, prin=True)\n",
    "M = mul_list(data, start_in=2, end_in=4, prin=True)\n",
    "M = mul_list(data=data, start_in=2, end_in=4, prin=True)"
   ]
  },
  {
   "cell_type": "code",
   "execution_count": 5,
   "id": "f9a39b8e",
   "metadata": {},
   "outputs": [],
   "source": [
    "# M = mul_list(data, start=2, 4, True) #에러"
   ]
  },
  {
   "cell_type": "code",
   "execution_count": 6,
   "id": "dd57a2e3",
   "metadata": {},
   "outputs": [
    {
     "name": "stdout",
     "output_type": "stream",
     "text": [
      "keyword argument 키워드 인자 섞어도 괜찮다.\n",
      "m_data :  [6, 8, 10] \n",
      "mul :  480\n",
      "m_data :  [6, 8, 10] \n",
      "mul :  480\n",
      "m_data :  [6, 8, 10] \n",
      "mul :  480\n"
     ]
    }
   ],
   "source": [
    "print(\"keyword argument 키워드 인자 섞어도 괜찮다.\")\n",
    "M = mul_list(data, start_in=2, end_in=4, prin=True)\n",
    "M = mul_list(data, end_in=4, start_in=2, prin=True)\n",
    "M = mul_list(data, start_in=2, end_in=7, prin=True)"
   ]
  },
  {
   "cell_type": "markdown",
   "id": "acd9ad8a",
   "metadata": {},
   "source": [
    "### 3. 인자 기본값 지정"
   ]
  },
  {
   "cell_type": "code",
   "execution_count": 7,
   "id": "bd6857e2",
   "metadata": {},
   "outputs": [
    {
     "name": "stdout",
     "output_type": "stream",
     "text": [
      "function default arguments\n",
      "amul_list_with_default(data) => 2\n",
      "mul_list_with_default(data, 3) => 1\n",
      "mul_list_with_default(data, end_in=5) => 3840\n"
     ]
    }
   ],
   "source": [
    "def mul_list_with_default(data, start_in=0, end_in=0, prin=False):\n",
    "    return mul_list(data, start_in, end_in, prin)\n",
    "\n",
    "print(\"function default arguments\")\n",
    "avg = mul_list_with_default(data)\n",
    "print(\"amul_list_with_default(data) =>\", avg)\n",
    "avg = mul_list_with_default(data, 3)\n",
    "print(\"mul_list_with_default(data, 3) =>\", avg)\n",
    "avg = mul_list_with_default(data, end_in=5)\n",
    "print(\"mul_list_with_default(data, end_in=5) =>\", avg)"
   ]
  },
  {
   "cell_type": "markdown",
   "id": "fcc756e2",
   "metadata": {},
   "source": [
    "### 연습문제"
   ]
  },
  {
   "cell_type": "code",
   "execution_count": 8,
   "id": "ad37506f",
   "metadata": {},
   "outputs": [
    {
     "name": "stdout",
     "output_type": "stream",
     "text": [
      "[1, 2, 3] + [2, 3, 4, 5, 6] = [3, 5, 7]\n",
      "[1, 2, 3, 0, 0] + [2, 3, 4, 5, 6] = [3, 5, 7, 5, 6]\n"
     ]
    },
    {
     "data": {
      "text/plain": [
       "[3, 5, 7, 5, 6]"
      ]
     },
     "execution_count": 8,
     "metadata": {},
     "output_type": "execute_result"
    }
   ],
   "source": [
    "def sum_list(list1, list2, shortlen, start=0, verbose=True):\n",
    "    list1 = list1[start:]\n",
    "    list2 = list2[start:]\n",
    "    if shortlen is False:\n",
    "        short = list1 if len(list1) < len(list2) else list2\n",
    "        longl = list2 if len(list1) < len(list2) else list1\n",
    "        for i in range(len(longl) - len(short)):\n",
    "            short.append(0)\n",
    "        sum_result = [s+l for s, l in zip(short, longl)]\n",
    "    else:\n",
    "        sum_result = [s+l for s, l in zip(list1, list2)]\n",
    "    if verbose:\n",
    "        print(f\"{list1} + {list2} = {sum_result}\")\n",
    "    return sum_result\n",
    "\n",
    "sum_list([1,2,3], [2,3,4,5,6], True)\n",
    "sum_list([1,2,3,], [2,3,4,5,6], False)"
   ]
  },
  {
   "cell_type": "markdown",
   "id": "502be1db",
   "metadata": {},
   "source": [
    "### 4. 변경 가능한 입력인자 개수"
   ]
  },
  {
   "cell_type": "markdown",
   "id": "aac13548",
   "metadata": {},
   "source": [
    "#### 4.1 *args"
   ]
  },
  {
   "cell_type": "code",
   "execution_count": 9,
   "id": "ff3960ba",
   "metadata": {},
   "outputs": [
    {
     "name": "stdout",
     "output_type": "stream",
     "text": [
      "[pe_st_multi] args: ('kim',)\n",
      "[pe_st_multi] *args: kim\n",
      " kim 의 키 몸무게 발사이즈의 곱 : 3343680.0\n",
      "[pe_st_multi] args: ('kim', 'lee', 'park')\n",
      "[pe_st_multi] *args: kim lee park\n",
      " kim 의 키 몸무게 발사이즈의 곱 : 3343680.0\n",
      " lee 의 키 몸무게 발사이즈의 곱 : 2496000.0\n",
      " park 의 키 몸무게 발사이즈의 곱 : 1875000.0\n"
     ]
    }
   ],
   "source": [
    "pe_st = {\"kim\" : [172, 72, 270], \"lee\" : [160, 60, 260], \"park\" : [150, 50, 250]}\n",
    "\n",
    "def average_multi_subjects(scores, *args):\n",
    "    averages = {}\n",
    "    print(\"[pe_st_multi] args:\", args)\n",
    "    print(\"[pe_st_multi] *args:\", *args)\n",
    "    for subject in args:\n",
    "        avg = mul_list_with_default(data=scores[subject], start_in = 0, end_in = 2, prin=False)\n",
    "        print(f\" {subject} 의 키 몸무게 발사이즈의 곱 : {avg:.1f}\")\n",
    "        averages[subject] = avg\n",
    "    return averages\n",
    "\n",
    "result = average_multi_subjects(pe_st, \"kim\")\n",
    "result = average_multi_subjects(pe_st, \"kim\", \"lee\", \"park\")"
   ]
  },
  {
   "cell_type": "code",
   "execution_count": 10,
   "id": "d79b30cc",
   "metadata": {},
   "outputs": [
    {
     "name": "stdout",
     "output_type": "stream",
     "text": [
      "average_variable_arguments(data, 10, 1, 7) => 403200000000\n",
      "m_data :  [20, 30, 40, 50, 60, 70, 80] \n",
      "mul :  403200000000\n",
      "average_variable_arguments(data, 10, 1, 7, True) => 403200000000\n",
      "average_list_with_default(data, 1, 7) => 40320\n",
      "m_data :  [2, 3, 4, 5, 6, 7, 8] \n",
      "mul :  40320\n",
      "average_list_with_default(data, 1, 7, True) => 40320\n"
     ]
    }
   ],
   "source": [
    "def average_variable_arguments(data, multiple, *args):\n",
    "    # do some process ...\n",
    "    data = [d*multiple for d in data]\n",
    "    avg = mul_list_with_default(data, *args)\n",
    "    return avg\n",
    "\n",
    "\n",
    "def main():\n",
    "    data = [1, 2, 3, 4, 5, 6, 7, 8, 9]\n",
    "    result = average_variable_arguments(data, 10, 1, 7)\n",
    "    print(\"average_variable_arguments(data, 10, 1, 7) =>\", result)\n",
    "    result = average_variable_arguments(data, 10, 1, 7, True)\n",
    "    print(\"average_variable_arguments(data, 10, 1, 7, True) =>\", result)\n",
    "\n",
    "    result = mul_list_with_default(data, 1, 7)\n",
    "    print(\"average_list_with_default(data, 1, 7) =>\", result)\n",
    "    result = mul_list_with_default(data, 1, 7, True)\n",
    "    print(\"average_list_with_default(data, 1, 7, True) =>\", result)\n",
    "\n",
    "\n",
    "if __name__ == \"__main__\":\n",
    "    main()\n"
   ]
  },
  {
   "cell_type": "markdown",
   "id": "9ad78046",
   "metadata": {},
   "source": [
    "#### 4.2 **kwargs"
   ]
  },
  {
   "cell_type": "code",
   "execution_count": 29,
   "id": "2d07c2a4",
   "metadata": {
    "scrolled": true
   },
   "outputs": [
    {
     "name": "stdout",
     "output_type": "stream",
     "text": [
      "[average_subjects_varargs] kwargs: {'start': 1, 'skip': [2, 3], 'end': 2}\n",
      "aver_keyworded_args(data, start=1, skip=[2, 3], end=2) => -20.0\n",
      "[average_subjects_varargs] kwargs: {'start': 1, 'end': 7}\n",
      "aver_keyworded_args(data, start=1, end=7) => 22.5\n"
     ]
    }
   ],
   "source": [
    "def aver_list(data, start, end, skip, verbose):\n",
    "    if end is None:\n",
    "        avg_data = data[start:]\n",
    "    else:\n",
    "        avg_data = data[start:end]\n",
    "\n",
    "    sum = 0\n",
    "    for ind, num in enumerate(avg_data):\n",
    "        if ind + start not in skip:\n",
    "            sum += num\n",
    "    dlen = len(avg_data) - len(skip)\n",
    "    average = sum / dlen\n",
    "\n",
    "    return average\n",
    "\n",
    "def aver_list_with_default(data, start=0, end=None, skip=None, verbose=False):\n",
    "    if skip is None:\n",
    "        skip = []\n",
    "    return aver_list(data, start, end, skip, verbose)\n",
    "\n",
    "def aver_keyworded_args(data, multiple, **kwargs):\n",
    "    print(\"[average_subjects_varargs] kwargs:\", kwargs)\n",
    "    data = [d*multiple for d in data]\n",
    "    avgverage = aver_list_with_default(data, **kwargs)\n",
    "    return avgverage\n",
    "\n",
    "data = [1, 2, 3, 4, 5, 6, 7, 8, 9]\n",
    "result = aver_keyworded_args(data, 10, start=1, skip=[2, 3], end=2)\n",
    "print(\"aver_keyworded_args(data, start=1, skip=[2, 3], end=2) =>\", result)\n",
    "result = aver_keyworded_args(data, 5, start=1, end=7)\n",
    "print(\"aver_keyworded_args(data, start=1, end=7) =>\", result)"
   ]
  },
  {
   "cell_type": "markdown",
   "id": "3d6b7e2a",
   "metadata": {},
   "source": [
    "### 연습문제"
   ]
  },
  {
   "cell_type": "code",
   "execution_count": 12,
   "id": "802bbcfe",
   "metadata": {},
   "outputs": [
    {
     "name": "stdout",
     "output_type": "stream",
     "text": [
      "[1, 2, 3] * [2, 3, 4, 5, 6] = [3, 5, 7]\n",
      "[1, 2, 3, 0, 0] * [2, 3, 4, 5, 6] = [3, 5, 7, 5, 6]\n"
     ]
    },
    {
     "data": {
      "text/plain": [
       "[3, 5, 7, 5, 6]"
      ]
     },
     "execution_count": 12,
     "metadata": {},
     "output_type": "execute_result"
    }
   ],
   "source": [
    "def sum_list(list1, list2, shortlen, start=0, verbose=True):\n",
    "    list1 = list1[start:]\n",
    "    list2 = list2[start:]\n",
    "    if shortlen is False:\n",
    "        short = list1 if len(list1) < len(list2) else list2\n",
    "        longl = list2 if len(list1) < len(list2) else list1\n",
    "        for i in range(len(longl) - len(short)):\n",
    "            short.append(0)\n",
    "        sum_result = [s+l for s, l in zip(short, longl)]\n",
    "    else:\n",
    "        sum_result = [s+l for s, l in zip(list1, list2)]\n",
    "    if verbose:\n",
    "        print(f\"{list1} * {list2} = {sum_result}\")\n",
    "    return sum_result\n",
    "\n",
    "sum_list([1,2,3], [2,3,4,5,6], True)\n",
    "sum_list([1,2,3,], [2,3,4,5,6], False)\n"
   ]
  },
  {
   "cell_type": "markdown",
   "id": "4e0b7a63",
   "metadata": {},
   "source": [
    "### 5. 변수 범위(Scope)"
   ]
  },
  {
   "cell_type": "code",
   "execution_count": 13,
   "id": "e2518041",
   "metadata": {},
   "outputs": [
    {
     "name": "stdout",
     "output_type": "stream",
     "text": [
      "add_ten_local 값 : 15\n",
      "local variable 'global_num' referenced before assignment\n",
      "local variable 'global_num' referenced before assignment\n",
      "add_ten_global_use_global 값 : 15\n",
      "global_num= 15\n"
     ]
    }
   ],
   "source": [
    "global_num = 5\n",
    "def add_ten_local():\n",
    "    local_num = global_num + 10\n",
    "    print(\"add_ten_local 값 :\", local_num)\n",
    "\n",
    "def add_ten_global():\n",
    "    try:\n",
    "        global_num = global_num + 10\n",
    "        print(\"add_ten_global 값 :\", global_num)\n",
    "    except NameError as ne:\n",
    "        print(ne)\n",
    "\n",
    "def add_ten_global_two_steps():\n",
    "    try:\n",
    "        local_num = global_num + 10\n",
    "        global_num = local_num\n",
    "        print(\"add_ten_global_two_steps 값 :\", global_num)\n",
    "    except NameError as ne:\n",
    "        print(ne)\n",
    "\n",
    "def add_ten_global_use_global():\n",
    "    global global_num\n",
    "    global_num = global_num + 10\n",
    "    print(\"add_ten_global_use_global 값 :\", global_num)\n",
    "\n",
    "\n",
    "def main():\n",
    "    add_ten_local()\n",
    "    add_ten_global()\n",
    "    add_ten_global_two_steps()\n",
    "    add_ten_global_use_global()\n",
    "    print(\"global_num=\", global_num)\n",
    "\n",
    "\n",
    "if __name__ == \"__main__\":\n",
    "    main()"
   ]
  },
  {
   "cell_type": "markdown",
   "id": "24a3f14e",
   "metadata": {},
   "source": [
    "### 6. 바람직한 파이썬 코딩 스타일"
   ]
  },
  {
   "cell_type": "code",
   "execution_count": 14,
   "id": "a6e7ae7f",
   "metadata": {},
   "outputs": [
    {
     "name": "stdout",
     "output_type": "stream",
     "text": [
      "average_keyworded_args(data_lis, start=1, skip=[2, 3]) => 35.714285714285715\n",
      "average_keyworded_args(data_lis, start=1, end=7) => 51.666666666666664\n"
     ]
    }
   ],
   "source": [
    "def main():\n",
    "    data_lis = [2, 4, 6, 8, 10, 1, 2, 3, 4, 5]\n",
    "    result = average_keyworded_args(data_lis, 10, start=1, skip=[2, 3])\n",
    "    print(f\"average_keyworded_args(data_lis, start=1, skip=[2, 3]) => {result}\")\n",
    "    result = average_keyworded_args(data_lis, 10, start=1, end=7)\n",
    "    print(f\"average_keyworded_args(data_lis, start=1, end=7) => {result}\")\n",
    "\n",
    "def average_keyworded_args(data_lis, multiple, **kwargs):\n",
    "    data_lis = [d*multiple for d in data_lis]\n",
    "    avg = average_list_with_default(data_lis, **kwargs)\n",
    "    return avg\n",
    "\n",
    "def average_list_with_default(data_lis, start=0, end=None, skip=None, verbose=False):\n",
    "    if skip is None:\n",
    "        skip = []\n",
    "    return average_list(data_lis, start, end, skip, verbose)\n",
    "\n",
    "def average_list(data_lis, start, end, skip, verbose):\n",
    "    if end is None:\n",
    "        avg_data = data_lis[start:]\n",
    "    else:\n",
    "        avg_data = data_lis[start:end]\n",
    "\n",
    "    sum = 0\n",
    "    for ind, num in enumerate(avg_data):\n",
    "        if ind not in skip:\n",
    "            sum += num\n",
    "    dlen = len(avg_data) - len(skip)\n",
    "    average = sum / dlen\n",
    "    if verbose:\n",
    "        print(f\"average {start}~{end} with skipping {skip} = {average}\")\n",
    "    return average\n",
    "\n",
    "if __name__ == '__main__':\n",
    "    main()"
   ]
  },
  {
   "cell_type": "markdown",
   "id": "4bd23ba6",
   "metadata": {},
   "source": [
    "## Class and File IO"
   ]
  },
  {
   "cell_type": "markdown",
   "id": "7da9683d",
   "metadata": {},
   "source": [
    "### 1. 클래스 사용법"
   ]
  },
  {
   "cell_type": "code",
   "execution_count": 15,
   "id": "372f9ce0",
   "metadata": {},
   "outputs": [
    {
     "name": "stdout",
     "output_type": "stream",
     "text": [
      "사과  5 개\n",
      "사과 5개 가격은 5000\n",
      "과일 이름은 apple이고 5개를 구매하면 5000원이다.\n"
     ]
    }
   ],
   "source": [
    "class Fruit:\n",
    "    def __init__(self, name):\n",
    "        self.name = name\n",
    "        self.cnt = 0\n",
    "        self.price = 0\n",
    "\n",
    "    def num(self, cnt):\n",
    "        self.cnt = cnt\n",
    "        print(\"사과 \", self.cnt, \"개\")\n",
    "\n",
    "    def pri(self):\n",
    "        self.price = 1000 * self.cnt\n",
    "        print(f\"사과 {self.cnt}개 가격은 {self.price}\")\n",
    "        \n",
    "\n",
    "def main():\n",
    "    app = Fruit(\"apple\")\n",
    "    app.num(5)\n",
    "    app.pri()\n",
    "    print(f\"과일 이름은 {app.name}이고 {app.cnt}개를 구매하면 {app.price}원이다.\")\n",
    "    \n",
    "\n",
    "if __name__ == '__main__':\n",
    "    main()"
   ]
  },
  {
   "cell_type": "markdown",
   "id": "50228db3",
   "metadata": {},
   "source": [
    "### 2. 상속과 다형성"
   ]
  },
  {
   "cell_type": "code",
   "execution_count": 16,
   "id": "25587e07",
   "metadata": {},
   "outputs": [
    {
     "name": "stdout",
     "output_type": "stream",
     "text": [
      "===== object oriented programming\n",
      "Fruit is apple1\n",
      "아삭~~~\n",
      "Fruit is fru\n",
      "...\n",
      "Fruit is apple1\n",
      "아삭~~~\n",
      "Fruit is Banana\n",
      "물렁~~\n"
     ]
    }
   ],
   "source": [
    "print(\"===== object oriented programming\")\n",
    "class Fruit:\n",
    "    def __init__(self, name):\n",
    "        self.name = name\n",
    "    def introduce(self):\n",
    "        print(\"Fruit is\", self.name)\n",
    "    def sound(self):\n",
    "        print(\"...\")\n",
    "class Apple(Fruit):\n",
    "    def __init__(self, name):\n",
    "        super().__init__(name) #부모클래스의 생성자를 호출\n",
    "    def sound(self):\n",
    "        print(\"아삭~~~\")\n",
    "class Banana(Fruit):\n",
    "    def __init__(self, name):\n",
    "        super().__init__(name)\n",
    "    def sound(self):\n",
    "        print(\"물렁~~\")\n",
    "\n",
    "def main():\n",
    "    apple = Apple(\"apple1\")\n",
    "    apple.introduce()\n",
    "    apple.sound()\n",
    "    fruit = [Fruit(\"fru\"), Apple(\"apple1\"), Banana(\"Banana\")]\n",
    "    for fru in fruit:\n",
    "        fru.introduce()\n",
    "        fru.sound()\n",
    "\n",
    "if __name__ == '__main__':\n",
    "    main()"
   ]
  },
  {
   "cell_type": "markdown",
   "id": "c69d9e9b",
   "metadata": {},
   "source": [
    "### 연습문제"
   ]
  },
  {
   "cell_type": "code",
   "execution_count": 17,
   "id": "f9415562",
   "metadata": {},
   "outputs": [
    {
     "name": "stdout",
     "output_type": "stream",
     "text": [
      "Operator is add\n",
      "4 + 2 = 6\n",
      "Operator is minus\n",
      "4 - 2 = 2\n",
      "Operator is multiplication\n",
      "4 * 2 = 8\n"
     ]
    }
   ],
   "source": [
    "class Operator:\n",
    "    def __init__(self, name):\n",
    "        self.name = name\n",
    "\n",
    "    def introduce(self):\n",
    "        print(\"Operator is\", self.name)\n",
    "\n",
    "    def op(self, num1, num2):\n",
    "        print(f\"{num1}, {num2}\")\n",
    "\n",
    "\n",
    "class Add(Operator):\n",
    "    def __init__(self, name):\n",
    "        super().__init__(name) #부모클래스의 생성자를 호출\n",
    "\n",
    "    def op(self, num1, num2):\n",
    "        print(f\"{num1} + {num2} = {num1 + num2}\")\n",
    "\n",
    "\n",
    "class Minus(Operator):\n",
    "    def __init__(self, name):\n",
    "        super().__init__(name)\n",
    "\n",
    "    def op(self, num1, num2):\n",
    "        print(f\"{num1} - {num2} = {num1 - num2}\")\n",
    "\n",
    "\n",
    "class Multiplication(Operator):\n",
    "    def __init__(self, name):\n",
    "        super().__init__(name)\n",
    "\n",
    "    def op(self, num1, num2):\n",
    "        print(f\"{num1} * {num2} = {num1 * num2}\")\n",
    "\n",
    "\n",
    "def main():\n",
    "    operator = [Add(\"add\"), Minus(\"minus\"), Multiplication(\"multiplication\")]\n",
    "    for oper in operator:\n",
    "        oper.introduce()\n",
    "        oper.op(4, 2)\n",
    "\n",
    "\n",
    "if __name__ == '__main__':\n",
    "    main()"
   ]
  },
  {
   "cell_type": "markdown",
   "id": "5c02130d",
   "metadata": {},
   "source": [
    "### 파일 입출력"
   ]
  },
  {
   "cell_type": "code",
   "execution_count": 18,
   "id": "fe7f5344",
   "metadata": {},
   "outputs": [
    {
     "name": "stdout",
     "output_type": "stream",
     "text": [
      "hw2.txt file was written\n",
      "hw2......\n"
     ]
    }
   ],
   "source": [
    "fout = open(\"hw2.txt\", \"w\")\n",
    "fout.write(\"hw2......\")\n",
    "fout.close()\n",
    "print(\"hw2.txt file was written\")\n",
    "\n",
    "fin = open(\"hw2.txt\", \"r\")\n",
    "contents = fin.read()\n",
    "fin.close()\n",
    "print(contents)"
   ]
  },
  {
   "cell_type": "markdown",
   "id": "0d7db10c",
   "metadata": {},
   "source": [
    "#### 1. 파일 열기"
   ]
  },
  {
   "cell_type": "code",
   "execution_count": 19,
   "id": "4e189be9",
   "metadata": {},
   "outputs": [],
   "source": [
    "try:\n",
    "    f = open(\"hw2.txt\", \"r\")\n",
    "except FileNotFoundError as fe:\n",
    "    print(fe)"
   ]
  },
  {
   "cell_type": "code",
   "execution_count": 20,
   "id": "22aa5bb0",
   "metadata": {},
   "outputs": [
    {
     "name": "stdout",
     "output_type": "stream",
     "text": [
      "check closed under 'with': False\n",
      "hw2......\n",
      "check closed outside 'with': True\n"
     ]
    }
   ],
   "source": [
    "with open(\"hw2.txt\", \"r\") as fr:\n",
    "    data = fr.read()\n",
    "    print(\"check closed under 'with':\", fr.closed)\n",
    "    print(data)\n",
    "\n",
    "print(\"check closed outside 'with':\", fr.closed)"
   ]
  },
  {
   "cell_type": "markdown",
   "id": "c48fdbd3",
   "metadata": {},
   "source": [
    "#### 2. 파일 쓰기"
   ]
  },
  {
   "cell_type": "code",
   "execution_count": 21,
   "id": "1ddf7909",
   "metadata": {},
   "outputs": [
    {
     "name": "stdout",
     "output_type": "stream",
     "text": [
      "\n",
      " 뱅뱅뱅 가사 파일에 쓰기\n"
     ]
    }
   ],
   "source": [
    "bangx3 = [\"BANG! BANG! BANG!\", \"BANG! BANG! BANG!\", \"빵야 빵야 빵야\",\n",
    "            \"BANG! BANG! BANG!\", \"BANG! BANG! BANG!\", \"빵야 빵야 빵야\",\n",
    "            \"다 꼼짝 마라 다 꼼짝 마\", \"다 꼼짝 마라 다 꼼짝 마\",\n",
    "            \"오늘 밤 끝장 보자 다 끝장 봐\", \"오늘 밤 끝장 보자\",\n",
    "            \"빵야 빵야 빵야\"]\n",
    "\n",
    "print(\"\\n 뱅뱅뱅 가사 파일에 쓰기\")\n",
    "with open(\"bangx3.txt\", \"w\") as f:\n",
    "    for i, line in enumerate(bangx3):\n",
    "        f.write(f\"{i:2}:\" + line + \"\\n\")"
   ]
  },
  {
   "cell_type": "markdown",
   "id": "fd1732d4",
   "metadata": {},
   "source": [
    "##### read()"
   ]
  },
  {
   "cell_type": "code",
   "execution_count": 22,
   "id": "4c129bc0",
   "metadata": {},
   "outputs": [
    {
     "name": "stdout",
     "output_type": "stream",
     "text": [
      "use read\n",
      " 0:BANG! BANG! BANG!\n",
      " 1:BANG! BANG! BANG!\n",
      " 2:빵야 빵야 빵야\n",
      " 3:BANG! BANG! BANG!\n",
      " 4:BANG! BANG! BANG!\n",
      " 5:빵야 빵야 빵야\n",
      " 6:다 꼼짝 마라 다 꼼짝 마\n",
      " 7:다 꼼짝 마라 다 꼼짝 마\n",
      " 8:오늘 밤 끝장 보자 다 끝장 봐\n",
      " 9:오늘 밤 끝장 보자\n",
      "10:빵야 빵야 빵야\n",
      "\n"
     ]
    }
   ],
   "source": [
    "print(\"use read\")\n",
    "with open(\"bangx3.txt\", \"r\") as f:\n",
    "    lyrics = f.read()\n",
    "    print(lyrics)"
   ]
  },
  {
   "cell_type": "markdown",
   "id": "a8b08810",
   "metadata": {},
   "source": [
    "##### readline()"
   ]
  },
  {
   "cell_type": "code",
   "execution_count": 23,
   "id": "eca43c7d",
   "metadata": {},
   "outputs": [
    {
     "name": "stdout",
     "output_type": "stream",
     "text": [
      "use readline\n",
      " 0:BANG! BANG! BANG!\n",
      " 1:BANG! BANG! BANG!\n",
      " 2:빵야 빵야 빵야\n",
      " 3:BANG! BANG! BANG!\n",
      " 4:BANG! BANG! BANG!\n",
      " 5:빵야 빵야 빵야\n",
      " 6:다 꼼짝 마라 다 꼼짝 마\n",
      " 7:다 꼼짝 마라 다 꼼짝 마\n",
      " 8:오늘 밤 끝장 보자 다 끝장 봐\n",
      " 9:오늘 밤 끝장 보자\n",
      "10:빵야 빵야 빵야\n"
     ]
    }
   ],
   "source": [
    "print(\"use readline\")\n",
    "with open(\"bangx3.txt\", \"r\") as f:\n",
    "    lyrics = []\n",
    "    line = f.readline()\n",
    "    while line:\n",
    "        line = line.rstrip(\"\\n\")\n",
    "        lyrics.append(line)\n",
    "        line = f.readline()\n",
    "print(\"\\n\".join(lyrics))"
   ]
  },
  {
   "cell_type": "markdown",
   "id": "767fdebc",
   "metadata": {},
   "source": [
    "##### readlines()"
   ]
  },
  {
   "cell_type": "code",
   "execution_count": 24,
   "id": "58fae3e2",
   "metadata": {},
   "outputs": [
    {
     "name": "stdout",
     "output_type": "stream",
     "text": [
      "use readlines\n",
      " 0:BANG! BANG! BANG!\n",
      " 1:BANG! BANG! BANG!\n",
      " 2:빵야 빵야 빵야\n",
      " 3:BANG! BANG! BANG!\n",
      " 4:BANG! BANG! BANG!\n",
      " 5:빵야 빵야 빵야\n",
      " 6:다 꼼짝 마라 다 꼼짝 마\n",
      " 7:다 꼼짝 마라 다 꼼짝 마\n",
      " 8:오늘 밤 끝장 보자 다 끝장 봐\n",
      " 9:오늘 밤 끝장 보자\n",
      "10:빵야 빵야 빵야\n"
     ]
    }
   ],
   "source": [
    "print(\"use readlines\")\n",
    "with open(\"bangx3.txt\", \"r\") as f:\n",
    "    lyrics = f.readlines()\n",
    "    lyrics = [line.rstrip(\"\\n\") for line in lyrics]\n",
    "    print(\"\\n\".join(lyrics))"
   ]
  },
  {
   "cell_type": "markdown",
   "id": "5df7db7f",
   "metadata": {},
   "source": [
    "### 연습문제"
   ]
  },
  {
   "cell_type": "code",
   "execution_count": 27,
   "id": "7c4a269f",
   "metadata": {},
   "outputs": [
    {
     "name": "stdout",
     "output_type": "stream",
     "text": [
      "[[4, 2], [5, 3]]\n",
      "determinant :  2\n"
     ]
    }
   ],
   "source": [
    "matrix_str = \"4 2\\n5 3\"\n",
    "with open(\"matrix.txt\", \"w\") as f:\n",
    "    f.write(matrix_str)\n",
    "\n",
    "with open(\"matrix.txt\", \"r\") as f:\n",
    "    data = f.readlines()\n",
    "\n",
    "data = [d.rstrip(\"\\n\") for d in data]\n",
    "data = [d.split() for d in data]\n",
    "\n",
    "data = [[int(elem) for elem in row] for row in data]\n",
    "\n",
    "print(data)\n",
    "\n",
    "determinant = data[0][0] * data[1][1] - data[0][1] * data[1][0]\n",
    "    \n",
    "print(\"determinant : \", determinant)"
   ]
  },
  {
   "cell_type": "markdown",
   "id": "3d1173aa",
   "metadata": {},
   "source": [
    "## Module and Package"
   ]
  },
  {
   "cell_type": "markdown",
   "id": "c854f16d",
   "metadata": {},
   "source": [
    "### 2. 모듈 만들기"
   ]
  },
  {
   "cell_type": "code",
   "execution_count": null,
   "id": "8cd789ac",
   "metadata": {},
   "outputs": [],
   "source": [
    "# list_ops.py\n",
    "def add(foo, bar):\n",
    "    re = []\n",
    "    for f, b in zip(foo, bar):\n",
    "        re.append(f + b)\n",
    "    return re\n",
    "\n",
    "def subtract(foo, bar):\n",
    "    re = []\n",
    "    for f, b in zip(foo, bar):\n",
    "        re.append(f - b)\n",
    "    return re\n",
    "\n",
    "def multiply(foo, bar):\n",
    "    re = []\n",
    "    for f, b in zip(foo, bar):\n",
    "        re.append(f * b)\n",
    "    return re\n",
    "\n",
    "def divide(foo, bar):\n",
    "    re = []\n",
    "    for f, b in zip(foo, bar):\n",
    "        re.append(f / b)\n",
    "    return re\n",
    "\n",
    "spam = [11, 22]\n",
    "ham = [33, 44]\n",
    "if __name__ == '__main__':\n",
    "    eggs = add(spam, ham)"
   ]
  },
  {
   "cell_type": "markdown",
   "id": "703a485b",
   "metadata": {},
   "source": [
    "#### 모듈 이름 그대로 가져오는 방법"
   ]
  },
  {
   "cell_type": "code",
   "execution_count": null,
   "id": "ba1b0a46",
   "metadata": {},
   "outputs": [],
   "source": [
    "import list_ops\n",
    "\n",
    "foo = [1, 2, 3, 4, 5]\n",
    "bar = [1, 2, 3, 4]\n",
    "gor = list_ops.add(foo, bar)\n",
    "print(f\"{foo} + {bar} = {gor}\")\n",
    "# => [1, 2, 3, 4, 5] + [1, 2, 3, 4] = [2, 4, 6, 8]\n",
    "print(f\"list_ops.spam: {list_ops.spam}\")\n",
    "# => list_ops.spam: [11, 22]\n",
    "gor = list_ops.multiply(list_ops.spam, list_ops.ham)\n",
    "print(f\"{list_ops.spam} * {list_ops.ham} = {gor}\")\n",
    "# => [11, 22] * [33, 44] = [363, 968]"
   ]
  },
  {
   "cell_type": "code",
   "execution_count": null,
   "id": "6196dba8",
   "metadata": {},
   "outputs": [],
   "source": [
    "import list_ops\n",
    "\n",
    "try:\n",
    "    print(\"list_ops.eggs: {}\".format(list_ops.eggs))\n",
    "except Exception as e:\n",
    "    print(e)\n",
    "    # => module 'list_ops' has no attribute 'eggs'"
   ]
  },
  {
   "cell_type": "markdown",
   "id": "edf3a616",
   "metadata": {},
   "source": [
    "#### 모듈 이름을 바꿔서 가져오는 방법"
   ]
  },
  {
   "cell_type": "code",
   "execution_count": null,
   "id": "30c9e9ac",
   "metadata": {},
   "outputs": [],
   "source": [
    "import list_ops as l_o\n",
    "\n",
    "gor = l_o.subtract(foo, bar)\n",
    "print(\"{} + {} = {}\".format(foo, bar, gor))\n",
    "gor = l_o.divide(bar, foo)\n",
    "print(\"{} * {} = {}\".format(bar, foo, gor))"
   ]
  },
  {
   "cell_type": "markdown",
   "id": "804ab8fa",
   "metadata": {},
   "source": [
    "#### 모듈에서 지정한 객체만 가져오는 방법"
   ]
  },
  {
   "cell_type": "code",
   "execution_count": null,
   "id": "3ed0c9f3",
   "metadata": {},
   "outputs": [],
   "source": [
    "from list_ops import add, subtract, spam\n",
    "\n",
    "gor = add(foo, bar)\n",
    "print(f\"{foo} + {bar} = {gor}\")\n",
    "gor = subtract(bar, foo)\n",
    "print(f\"{bar} - {foo} = {gor}\")\n",
    "print(f\"spam = {spam}\")"
   ]
  },
  {
   "cell_type": "markdown",
   "id": "fe542087",
   "metadata": {},
   "source": [
    "### 3. 패키지 만들기"
   ]
  },
  {
   "cell_type": "code",
   "execution_count": null,
   "id": "25c067d2",
   "metadata": {},
   "outputs": [],
   "source": [
    "# dict_ops.py\n",
    "def add_op(foo, bar):\n",
    "    out = {}\n",
    "    for key in foo:\n",
    "        if key in bar:\n",
    "            out[key] = foo[key] + bar[key]\n",
    "    return out\n",
    "\n",
    "def subtract_op(foo, bar):\n",
    "    out = {}\n",
    "    for key in foo:\n",
    "        if key in bar:\n",
    "            out[key] = foo[key] - bar[key]\n",
    "    return out\n",
    "\n",
    "def multiply_op(foo, bar):\n",
    "    out = {}\n",
    "    for i, key in enumerate(foo):\n",
    "        if key in bar:\n",
    "            out[i] = foo[i] * bar[i]\n",
    "    return out\n",
    "\n",
    "def divide_op(foo, bar):\n",
    "    out = {}\n",
    "    for i, key in enumerate(foo):\n",
    "        out[i] = foo[i] / bar[i]\n",
    "    return out\n",
    "\n",
    "#use_package.py\n",
    "#원래대로 패키지를 만들고 했으면 import를 해줘야 하는데 과제제출을 위해 한 코드에 작성했습니다.\n",
    "# import package.list_ops as lo\n",
    "# import package.dict_ops as do\n",
    "\n",
    "#위의 함수명 앞세 as로 설정한 변수를 써줘야 합니다. \n",
    "#예를들어 lo.multiply_op()이렇게 써줘야 하는데 한 코드에 작성하다보니 분리해서 실행할 때 없던 에러가 생겨서 코드를 수정했습니다.\n",
    "#TypeError: list indices must be integers or slices, not float 이런 에러때문에 리스트를 enumerate하고 나온 딕셔너리를 다시 리스트를 바꿔주는 코드를 작성했습니다.\n",
    "\n",
    "weights_bmi = [65, 90, 42, 76]\n",
    "heights_bmi = [1.65, 1.78, 1.59, 1.80]\n",
    "heights_sq = multiply_op(heights_bmi, heights_bmi)\n",
    "heights_sq = list(heights_sq.values())\n",
    "bmi = divide_op(weights_bmi, heights_sq)\n",
    "bmi = list(bmi.values())\n",
    "print(\"BMI:\", bmi)"
   ]
  },
  {
   "cell_type": "code",
   "execution_count": null,
   "id": "a85c03e1",
   "metadata": {},
   "outputs": [],
   "source": [
    "# dict_ops.py\n",
    "def add_op(foo, bar):\n",
    "    out = {}\n",
    "    for key in foo:\n",
    "        if key in bar:\n",
    "            out[key] = foo[key] + bar[key]\n",
    "    return out\n",
    "\n",
    "def subtract_op(foo, bar):\n",
    "    out = {}\n",
    "    for key in foo:\n",
    "        if key in bar:\n",
    "            out[key] = foo[key] - bar[key]\n",
    "    return out\n",
    "\n",
    "def multiply_op(foo, bar):\n",
    "    out = {}\n",
    "    for key in foo:\n",
    "        if key in bar:\n",
    "            out[key] = foo[key] * bar[key]\n",
    "    return out\n",
    "\n",
    "def divide_op(foo, bar):\n",
    "    out = {}\n",
    "    for key in foo:\n",
    "        if key in bar:\n",
    "            out[key] = foo[key] / bar[key]\n",
    "    return out\n",
    "\n",
    "#use_package.py\n",
    "weights_bmi = [65, 90, 42, 76]\n",
    "heights_bmi = [1.65, 1.78, 1.59, 1.80]\n",
    "w_names = [\"RM\", \"Suga\", \"Jin\", \"V\"]\n",
    "h_names = [\"Jimin\", \"RM\", \"Suga\", \"Jin\"]\n",
    "weights = dict(zip(w_names, weights_bmi))\n",
    "heights = dict(zip(h_names, heights_bmi))\n",
    "print(\"dict weights:\", weights)\n",
    "print(\"dict heights:\", heights)\n",
    "heights_sq = multiply_op(heights, heights)\n",
    "bmi = divide_op(weights, heights_sq)\n",
    "print(\"BMI:\", bmi)"
   ]
  },
  {
   "cell_type": "markdown",
   "id": "4eed2eff",
   "metadata": {},
   "source": [
    "### 연습문제 1"
   ]
  },
  {
   "cell_type": "code",
   "execution_count": null,
   "id": "ea91d887",
   "metadata": {},
   "outputs": [],
   "source": [
    "#iter_ops\n",
    "\n",
    "#dict_ops\n",
    "def add(foo, bar):\n",
    "    return {fkey: foo[fkey] + bar[fkey] for fkey in foo if fkey in bar}\n",
    "\n",
    "def subtract(foo, bar):\n",
    "    return {fkey: foo[fkey] - bar[fkey] for fkey in foo if fkey in bar}\n",
    "\n",
    "def multiply(foo, bar):\n",
    "    return {fkey: foo[fkey] * bar[fkey] for fkey in foo if fkey in bar}\n",
    "\n",
    "def divide(foo, bar):\n",
    "    return {fkey: foo[fkey] / bar[fkey] for fkey in foo if fkey in bar}\n",
    "\n",
    "#list_ops\n",
    "def add(foo, bar):\n",
    "    return [f+b for f, b in zip(foo, bar)]\n",
    "\n",
    "def subtract(foo, bar):\n",
    "    return [f-b for f, b in zip(foo, bar)]\n",
    "\n",
    "def multiply(foo, bar):\n",
    "    return [f*b for f, b in zip(foo, bar)]\n",
    "\n",
    "def divide(foo, bar):\n",
    "    return [f/b for f, b in zip(foo, bar)]"
   ]
  },
  {
   "cell_type": "markdown",
   "id": "57b04a61",
   "metadata": {},
   "source": [
    "### 연습문제 2"
   ]
  },
  {
   "cell_type": "code",
   "execution_count": 26,
   "id": "38cc7479",
   "metadata": {},
   "outputs": [
    {
     "name": "stdout",
     "output_type": "stream",
     "text": [
      "[True, False, True, True]\n"
     ]
    }
   ],
   "source": [
    "def check_prime_number(numbers):\n",
    "    out = []\n",
    "    for i in numbers:\n",
    "        for j in range(2, i):\n",
    "            if i % j == 0:\n",
    "                out.append(False)\n",
    "                break\n",
    "            out.append(True)\n",
    "            break\n",
    "    return out\n",
    "\n",
    "\n",
    "def main():\n",
    "    lis = [341, 12, 523, 59]\n",
    "    print(check_prime_number(lis))\n",
    "\n",
    "if __name__ == \"__main__\":\n",
    "    main()"
   ]
  }
 ],
 "metadata": {
  "kernelspec": {
   "display_name": "Python 3 (ipykernel)",
   "language": "python",
   "name": "python3"
  },
  "language_info": {
   "codemirror_mode": {
    "name": "ipython",
    "version": 3
   },
   "file_extension": ".py",
   "mimetype": "text/x-python",
   "name": "python",
   "nbconvert_exporter": "python",
   "pygments_lexer": "ipython3",
   "version": "3.7.8"
  }
 },
 "nbformat": 4,
 "nbformat_minor": 5
}
