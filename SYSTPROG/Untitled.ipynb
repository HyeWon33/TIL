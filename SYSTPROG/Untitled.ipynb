{
 "cells": [
  {
   "cell_type": "code",
   "execution_count": null,
   "id": "b1b87a64",
   "metadata": {},
   "outputs": [],
   "source": [
    "# 1. 응용 문제"
   ]
  },
  {
   "cell_type": "code",
   "execution_count": null,
   "id": "7ee4c6af",
   "metadata": {},
   "outputs": [],
   "source": [
    "## Function"
   ]
  },
  {
   "cell_type": "code",
   "execution_count": null,
   "id": "ec9a7522",
   "metadata": {},
   "outputs": [],
   "source": [
    "### 1. 함수 정의"
   ]
  },
  {
   "cell_type": "code",
   "execution_count": null,
   "id": "e1d07783",
   "metadata": {},
   "outputs": [],
   "source": [
    "def mul_list(data, start_in, end_in, prin):\n",
    "    if end_in is None:\n",
    "        m_data = data[start_in:]\n",
    "    else:\n",
    "        m_data = data[start_in:end_in+1]\n",
    "\n",
    "    if start_in is None:\n",
    "        m_data = data[:end_in+1]\n",
    "    else:\n",
    "        m_data = data[start_in:end_in+1]\n",
    "\n",
    "    mul = 1\n",
    "    a = 0\n",
    "    for ind, num in enumerate(m_data):\n",
    "        mul*=num\n",
    "\n",
    "    if prin:\n",
    "        print(\"m_data : \", m_data, \"\\nmul : \", mul)\n",
    "\n",
    "    return mul"
   ]
  },
  {
   "cell_type": "code",
   "execution_count": null,
   "id": "bc97c8dc",
   "metadata": {},
   "outputs": [],
   "source": [
    "### 2. Keyword Arguments"
   ]
  },
  {
   "cell_type": "code",
   "execution_count": null,
   "id": "30d771bb",
   "metadata": {},
   "outputs": [],
   "source": [
    "data = [2, 4, 6, 8, 10]\n",
    "M = mul_list(data, 2, 4, True)"
   ]
  },
  {
   "cell_type": "code",
   "execution_count": null,
   "id": "c501018c",
   "metadata": {},
   "outputs": [],
   "source": [
    "print(\" 입력 값이 어느 입력인자로 들어가야 하는지 명시적으로 보여줄 수 있다. 이렇게 입력하는 인자를 keyword argument (키워드 인자)라 한다.\\n\")\n",
    "print(\"키워드 인자는 반드시 위치 인자 뒤에 나와야 한다\")\n",
    "M = mul_list(data, 2, 4, prin=True)\n",
    "M = mul_list(data, 2, end_in=4, prin=True)\n",
    "M = mul_list(data, start_in=2, end_in=4, prin=True)\n",
    "M = mul_list(data=data, start_in=2, end_in=4, prin=True)"
   ]
  },
  {
   "cell_type": "code",
   "execution_count": null,
   "id": "f9a39b8e",
   "metadata": {},
   "outputs": [],
   "source": [
    "# M = mul_list(data, start=2, 4, True) #에러"
   ]
  },
  {
   "cell_type": "code",
   "execution_count": null,
   "id": "dd57a2e3",
   "metadata": {},
   "outputs": [],
   "source": [
    "print(\"keyword argument 키워드 인자 섞어도 괜찮다.\")\n",
    "M = mul_list(data, start_in=2, end_in=4, prin=True)\n",
    "M = mul_list(data, end_in=4, start_in=2, prin=True)\n",
    "M = mul_list(data, start_in=2, end_in=7, prin=True)"
   ]
  },
  {
   "cell_type": "code",
   "execution_count": null,
   "id": "389f7db3",
   "metadata": {},
   "outputs": [],
   "source": [
    "### 3. 인자 기본값 지정"
   ]
  },
  {
   "cell_type": "code",
   "execution_count": null,
   "id": "bd6857e2",
   "metadata": {},
   "outputs": [],
   "source": [
    "def mul_list_with_default(data, start_in=0, end_in=0, prin=False):\n",
    "    return mul_list(data, start_in, end_in, prin)\n",
    "\n",
    "print(\"function default arguments\")\n",
    "avg = mul_list_with_default(data)\n",
    "print(\"amul_list_with_default(data) =>\", avg)\n",
    "avg = mul_list_with_default(data, 3)\n",
    "print(\"mul_list_with_default(data, 3) =>\", avg)\n",
    "avg = mul_list_with_default(data, end_in=5)\n",
    "print(\"mul_list_with_default(data, end_in=5) =>\", avg)"
   ]
  },
  {
   "cell_type": "code",
   "execution_count": null,
   "id": "8e5803e0",
   "metadata": {},
   "outputs": [],
   "source": [
    "### 연습문제"
   ]
  },
  {
   "cell_type": "code",
   "execution_count": null,
   "id": "ad37506f",
   "metadata": {},
   "outputs": [],
   "source": [
    "def sum_list(list1, list2, shortlen, start=0, verbose=True):\n",
    "    list1 = list1[start:]\n",
    "    list2 = list2[start:]\n",
    "    if shortlen is False:\n",
    "        short = list1 if len(list1) < len(list2) else list2\n",
    "        longl = list2 if len(list1) < len(list2) else list1\n",
    "        for i in range(len(longl) - len(short)):\n",
    "            short.append(0)\n",
    "        sum_result = [s+l for s, l in zip(short, longl)]\n",
    "    else:\n",
    "        sum_result = [s+l for s, l in zip(list1, list2)]\n",
    "    if verbose:\n",
    "        print(f\"{list1} + {list2} = {sum_result}\")\n",
    "    return sum_result\n",
    "\n",
    "sum_list([1,2,3], [2,3,4,5,6], True)\n",
    "sum_list([1,2,3,], [2,3,4,5,6], False)"
   ]
  },
  {
   "cell_type": "code",
   "execution_count": null,
   "id": "4e6ce658",
   "metadata": {},
   "outputs": [],
   "source": [
    "### 4. 변경 가능한 입력인자 개수"
   ]
  },
  {
   "cell_type": "code",
   "execution_count": null,
   "id": "8d7c96b8",
   "metadata": {},
   "outputs": [],
   "source": [
    "#### 4.1 *args"
   ]
  },
  {
   "cell_type": "code",
   "execution_count": null,
   "id": "ff3960ba",
   "metadata": {},
   "outputs": [],
   "source": [
    "pe_st = {\"kim\" : [172, 72, 270], \"lee\" : [160, 60, 260], \"park\" : [150, 50, 250]}\n",
    "\n",
    "def average_multi_subjects(scores, *args):\n",
    "    averages = {}\n",
    "    print(\"[pe_st_multi] args:\", args)\n",
    "    print(\"[pe_st_multi] *args:\", *args)\n",
    "    for subject in args:\n",
    "        avg = mul_list_with_default(data=scores[subject], start_in = 0, end_in = 2, prin=False)\n",
    "        print(f\" {subject} 의 키 몸무게 발사이즈의 곱 : {avg:.1f}\")\n",
    "        averages[subject] = avg\n",
    "    return averages\n",
    "\n",
    "result = average_multi_subjects(pe_st, \"kim\")\n",
    "result = average_multi_subjects(pe_st, \"kim\", \"lee\", \"park\")"
   ]
  },
  {
   "cell_type": "code",
   "execution_count": null,
   "id": "d79b30cc",
   "metadata": {},
   "outputs": [],
   "source": [
    "def average_variable_arguments(data, multiple, *args):\n",
    "    # do some process ...\n",
    "    data = [d*multiple for d in data]\n",
    "    avg = mul_list_with_default(data, *args)\n",
    "    return avg\n",
    "\n",
    "\n",
    "def main():\n",
    "    data = [1, 2, 3, 4, 5, 6, 7, 8, 9]\n",
    "    result = average_variable_arguments(data, 10, 1, 7)\n",
    "    print(\"average_variable_arguments(data, 10, 1, 7) =>\", result)\n",
    "    result = average_variable_arguments(data, 10, 1, 7, True)\n",
    "    print(\"average_variable_arguments(data, 10, 1, 7, True) =>\", result)\n",
    "\n",
    "    result = mul_list_with_default(data, 1, 7)\n",
    "    print(\"average_list_with_default(data, 1, 7) =>\", result)\n",
    "    result = mul_list_with_default(data, 1, 7, True)\n",
    "    print(\"average_list_with_default(data, 1, 7, True) =>\", result)\n",
    "\n",
    "\n",
    "if __name__ == \"__main__\":\n",
    "    main()\n"
   ]
  },
  {
   "cell_type": "code",
   "execution_count": null,
   "id": "e3f32146",
   "metadata": {},
   "outputs": [],
   "source": [
    "#### 4.2 **kwargs"
   ]
  },
  {
   "cell_type": "code",
   "execution_count": null,
   "id": "2d07c2a4",
   "metadata": {},
   "outputs": [],
   "source": [
    "# def average_keyworded_args(data, multiple, **kwargs):\n",
    "#     print(\"[average_subjects_varargs] kwargs:\", kwargs)\n",
    "#     data = [d*multiple for d in data]\n",
    "#     avg = mul_list_with_default(data, **kwargs)\n",
    "#     return avg\n",
    "\n",
    "# data = [1, 2, 3, 4, 5, 6, 7, 8, 9]\n",
    "\n",
    "# result = average_keyworded_args(data, 10, start_id=1, end_id=3)\n",
    "# print(\"average_keyworded_args(data, start_id=1, end_id=3) =>\", result)"
   ]
  },
  {
   "cell_type": "code",
   "execution_count": null,
   "id": "60691279",
   "metadata": {},
   "outputs": [],
   "source": [
    "### 연습문제"
   ]
  },
  {
   "cell_type": "code",
   "execution_count": null,
   "id": "802bbcfe",
   "metadata": {},
   "outputs": [],
   "source": []
  },
  {
   "cell_type": "code",
   "execution_count": null,
   "id": "c975292c",
   "metadata": {},
   "outputs": [],
   "source": [
    "### 5. 변수 범위(Scope)"
   ]
  },
  {
   "cell_type": "code",
   "execution_count": null,
   "id": "e2518041",
   "metadata": {},
   "outputs": [],
   "source": [
    "global_num = 5\n",
    "def add_ten_local():\n",
    "    local_num = global_num + 10\n",
    "    print(\"add_ten_local 값 :\", local_num)\n",
    "\n",
    "def add_ten_global():\n",
    "    try:\n",
    "        global_num = global_num + 10\n",
    "        print(\"add_ten_global 값 :\", global_num)\n",
    "    except NameError as ne:\n",
    "        print(ne)\n",
    "\n",
    "def add_ten_global_two_steps():\n",
    "    try:\n",
    "        local_num = global_num + 10\n",
    "        global_num = local_num\n",
    "        print(\"add_ten_global_two_steps 값 :\", global_num)\n",
    "    except NameError as ne:\n",
    "        print(ne)\n",
    "\n",
    "def add_ten_global_use_global():\n",
    "    global global_num\n",
    "    global_num = global_num + 10\n",
    "    print(\"add_ten_global_use_global 값 :\", global_num)\n",
    "\n",
    "\n",
    "def main():\n",
    "    add_ten_local()\n",
    "    add_ten_global()\n",
    "    add_ten_global_two_steps()\n",
    "    add_ten_global_use_global()\n",
    "    print(\"global_num=\", global_num)\n",
    "\n",
    "\n",
    "if __name__ == \"__main__\":\n",
    "    main()"
   ]
  },
  {
   "cell_type": "code",
   "execution_count": null,
   "id": "6b8379b7",
   "metadata": {},
   "outputs": [],
   "source": [
    "### 6. 바람직한 파이썬 코딩 스타일"
   ]
  },
  {
   "cell_type": "code",
   "execution_count": null,
   "id": "a6e7ae7f",
   "metadata": {},
   "outputs": [],
   "source": []
  },
  {
   "cell_type": "code",
   "execution_count": null,
   "id": "25a14537",
   "metadata": {},
   "outputs": [],
   "source": [
    "## Class and File IO"
   ]
  },
  {
   "cell_type": "code",
   "execution_count": null,
   "id": "4cc4756f",
   "metadata": {},
   "outputs": [],
   "source": [
    "### 1. 클래스 사용법"
   ]
  },
  {
   "cell_type": "code",
   "execution_count": null,
   "id": "372f9ce0",
   "metadata": {},
   "outputs": [],
   "source": [
    "class Fruit:\n",
    "    def __init__(self, name):\n",
    "        self.name = name\n",
    "        self.cnt = 0\n",
    "        self.price = 0\n",
    "\n",
    "    def num(self, cnt):\n",
    "        self.cnt = cnt\n",
    "        print(\"사과 \", self.cnt, \"개\")\n",
    "\n",
    "    def pri(self):\n",
    "        self.price = 1000 * self.cnt\n",
    "        print(f\"사과 {self.cnt}개 가격은 {self.price}\")\n",
    "        \n",
    "\n",
    "def main():\n",
    "    app = Fruit(\"apple\")\n",
    "    app.num(5)\n",
    "    app.pri()\n",
    "    print(f\"과일 이름은 {app.name}이고 {app.cnt}개를 구매하면 {app.price}원이다.\")\n",
    "    \n",
    "\n",
    "if __name__ == '__main__':\n",
    "    main()"
   ]
  },
  {
   "cell_type": "code",
   "execution_count": null,
   "id": "333b56d9",
   "metadata": {},
   "outputs": [],
   "source": [
    "### 2. 상속과 다형성"
   ]
  },
  {
   "cell_type": "code",
   "execution_count": null,
   "id": "25587e07",
   "metadata": {},
   "outputs": [],
   "source": [
    "print(\"===== object oriented programming\")\n",
    "class Fruit:\n",
    "    def __init__(self, name):\n",
    "        self.name = name\n",
    "    def introduce(self):\n",
    "        print(\"Fruit is\", self.name)\n",
    "    def sound(self):\n",
    "        print(\"...\")\n",
    "class Apple(Fruit):\n",
    "    def __init__(self, name):\n",
    "        super().__init__(name) #부모클래스의 생성자를 호출\n",
    "    def sound(self):\n",
    "        print(\"아삭~~~\")\n",
    "class Banana(Fruit):\n",
    "    def __init__(self, name):\n",
    "        super().__init__(name)\n",
    "    def sound(self):\n",
    "        print(\"물렁~~\")\n",
    "\n",
    "def main():\n",
    "    apple = Apple(\"apple1\")\n",
    "    apple.introduce()\n",
    "    apple.sound()\n",
    "    fruit = [Fruit(\"fru\"), Apple(\"apple1\"), Banana(\"Banana\")]\n",
    "    for fru in fruit:\n",
    "        fru.introduce()\n",
    "        fru.sound()\n",
    "\n",
    "if __name__ == '__main__':\n",
    "    main()"
   ]
  },
  {
   "cell_type": "code",
   "execution_count": null,
   "id": "838d44c9",
   "metadata": {},
   "outputs": [],
   "source": [
    "### 연습문제"
   ]
  },
  {
   "cell_type": "code",
   "execution_count": null,
   "id": "f9415562",
   "metadata": {},
   "outputs": [],
   "source": [
    "class Operator:\n",
    "    def __init__(self, name):\n",
    "        self.name = name\n",
    "\n",
    "    def introduce(self):\n",
    "        print(\"Operator is\", self.name)\n",
    "\n",
    "    def op(self, num1, num2):\n",
    "        print(f\"{num1}, {num2}\")\n",
    "\n",
    "\n",
    "class Add(Operator):\n",
    "    def __init__(self, name):\n",
    "        super().__init__(name) #부모클래스의 생성자를 호출\n",
    "\n",
    "    def op(self, num1, num2):\n",
    "        print(f\"{num1} + {num2} = {num1 + num2}\")\n",
    "\n",
    "\n",
    "class Minus(Operator):\n",
    "    def __init__(self, name):\n",
    "        super().__init__(name)\n",
    "\n",
    "    def op(self, num1, num2):\n",
    "        print(f\"{num1} - {num2} = {num1 - num2}\")\n",
    "\n",
    "\n",
    "class Multiplication(Operator):\n",
    "    def __init__(self, name):\n",
    "        super().__init__(name)\n",
    "\n",
    "    def op(self, num1, num2):\n",
    "        print(f\"{num1} * {num2} = {num1 * num2}\")\n",
    "\n",
    "\n",
    "def main():\n",
    "    operator = [Add(\"add\"), Minus(\"minus\"), Multiplication(\"multiplication\")]\n",
    "    for oper in operator:\n",
    "        oper.introduce()\n",
    "        oper.op(4, 2)\n",
    "\n",
    "\n",
    "if __name__ == '__main__':\n",
    "    main()"
   ]
  },
  {
   "cell_type": "code",
   "execution_count": null,
   "id": "733587a0",
   "metadata": {},
   "outputs": [],
   "source": [
    "### 파일 입출력"
   ]
  },
  {
   "cell_type": "code",
   "execution_count": null,
   "id": "fe7f5344",
   "metadata": {},
   "outputs": [],
   "source": [
    "fout = open(\"hw2.txt\", \"w\")\n",
    "fout.write(\"hw2......\")\n",
    "fout.close()\n",
    "print(\"hw2.txt file was written\")\n",
    "\n",
    "fin = open(\"hw2.txt\", \"r\")\n",
    "contents = fin.read()\n",
    "fin.close()\n",
    "print(contents)"
   ]
  },
  {
   "cell_type": "code",
   "execution_count": null,
   "id": "0f8f125b",
   "metadata": {},
   "outputs": [],
   "source": [
    "#### 1. 파일 열기"
   ]
  },
  {
   "cell_type": "code",
   "execution_count": null,
   "id": "4e189be9",
   "metadata": {},
   "outputs": [],
   "source": [
    "try:\n",
    "    f = open(\"hw2.txt\", \"r\")\n",
    "except FileNotFoundError as fe:\n",
    "    print(fe)"
   ]
  },
  {
   "cell_type": "code",
   "execution_count": null,
   "id": "22aa5bb0",
   "metadata": {},
   "outputs": [],
   "source": [
    "with open(\"hw2.txt\", \"r\") as fr:\n",
    "    data = fr.read()\n",
    "    print(\"check closed under 'with':\", fr.closed)\n",
    "    print(data)\n",
    "\n",
    "print(\"check closed outside 'with':\", fr.closed)"
   ]
  },
  {
   "cell_type": "code",
   "execution_count": null,
   "id": "ca59bfce",
   "metadata": {},
   "outputs": [],
   "source": [
    "#### 2. 파일 쓰기"
   ]
  },
  {
   "cell_type": "code",
   "execution_count": null,
   "id": "1ddf7909",
   "metadata": {},
   "outputs": [],
   "source": [
    "bangx3 = [\"BANG! BANG! BANG!\", \"BANG! BANG! BANG!\", \"빵야 빵야 빵야\",\n",
    "            \"BANG! BANG! BANG!\", \"BANG! BANG! BANG!\", \"빵야 빵야 빵야\",\n",
    "            \"다 꼼짝 마라 다 꼼짝 마\", \"다 꼼짝 마라 다 꼼짝 마\",\n",
    "            \"오늘 밤 끝장 보자 다 끝장 봐\", \"오늘 밤 끝장 보자\",\n",
    "            \"빵야 빵야 빵야\"]\n",
    "\n",
    "print(\"\\n 뱅뱅뱅 가사 파일에 쓰기\")\n",
    "with open(\"bangx3.txt\", \"w\") as f:\n",
    "    for i, line in enumerate(bangx3):\n",
    "        f.write(f\"{i:2}:\" + line + \"\\n\")"
   ]
  },
  {
   "cell_type": "code",
   "execution_count": null,
   "id": "0cc9d488",
   "metadata": {},
   "outputs": [],
   "source": [
    "##### read()"
   ]
  },
  {
   "cell_type": "code",
   "execution_count": null,
   "id": "4c129bc0",
   "metadata": {},
   "outputs": [],
   "source": [
    "print(\"use read\")\n",
    "with open(\"bangx3.txt\", \"r\") as f:\n",
    "    lyrics = f.read()\n",
    "    print(lyrics)"
   ]
  },
  {
   "cell_type": "code",
   "execution_count": null,
   "id": "1bac8cae",
   "metadata": {},
   "outputs": [],
   "source": [
    "##### readline()"
   ]
  },
  {
   "cell_type": "code",
   "execution_count": null,
   "id": "eca43c7d",
   "metadata": {},
   "outputs": [],
   "source": [
    "print(\"use readline\")\n",
    "with open(\"bangx3.txt\", \"r\") as f:\n",
    "    lyrics = []\n",
    "    line = f.readline()\n",
    "    while line:\n",
    "        line = line.rstrip(\"\\n\")\n",
    "        lyrics.append(line)\n",
    "        line = f.readline()\n",
    "print(\"\\n\".join(lyrics))"
   ]
  },
  {
   "cell_type": "code",
   "execution_count": null,
   "id": "121acaff",
   "metadata": {},
   "outputs": [],
   "source": [
    "##### readlines()"
   ]
  },
  {
   "cell_type": "code",
   "execution_count": null,
   "id": "58fae3e2",
   "metadata": {},
   "outputs": [],
   "source": [
    "print(\"use readlines\")\n",
    "with open(\"bangx3.txt\", \"r\") as f:\n",
    "    lyrics = f.readlines()\n",
    "    lyrics = [line.rstrip(\"\\n\") for line in lyrics]\n",
    "    print(\"\\n\".join(lyrics))"
   ]
  },
  {
   "cell_type": "code",
   "execution_count": null,
   "id": "cf46912e",
   "metadata": {},
   "outputs": [],
   "source": [
    "### 연습문제"
   ]
  },
  {
   "cell_type": "code",
   "execution_count": null,
   "id": "7c4a269f",
   "metadata": {},
   "outputs": [],
   "source": [
    "with open(\"matrix.txt\", \"r\") as f:\n",
    "    data = f.readlines()\n",
    "\n",
    "data = [d.rstrip(\"\\n\") for d in data]\n",
    "data = [d.split() for d in data]\n",
    "data = [[int(elem) for elem in row] for row in data]\n",
    "print(data)\n",
    "determinant = data[0][0] * data[1][1] - data[0][1] * data[1][0]\n",
    "print(\"determinant : \", determinant)"
   ]
  },
  {
   "cell_type": "code",
   "execution_count": null,
   "id": "dbebcb50",
   "metadata": {},
   "outputs": [],
   "source": [
    "## Module and Package"
   ]
  },
  {
   "cell_type": "code",
   "execution_count": null,
   "id": "17f895a4",
   "metadata": {},
   "outputs": [],
   "source": [
    "### 2. 모듈 만들기"
   ]
  },
  {
   "cell_type": "code",
   "execution_count": null,
   "id": "8cd789ac",
   "metadata": {},
   "outputs": [],
   "source": [
    "# list_ops.py\n",
    "def add(foo, bar):\n",
    "    re = []\n",
    "    for f, b in zip(foo, bar):\n",
    "        re.append(f + b)\n",
    "    return re\n",
    "\n",
    "def subtract(foo, bar):\n",
    "    re = []\n",
    "    for f, b in zip(foo, bar):\n",
    "        re.append(f - b)\n",
    "    return re\n",
    "\n",
    "def multiply(foo, bar):\n",
    "    re = []\n",
    "    for f, b in zip(foo, bar):\n",
    "        re.append(f * b)\n",
    "    return re\n",
    "\n",
    "def divide(foo, bar):\n",
    "    re = []\n",
    "    for f, b in zip(foo, bar):\n",
    "        re.append(f / b)\n",
    "    return re\n",
    "\n",
    "spam = [11, 22]\n",
    "ham = [33, 44]\n",
    "if __name__ == '__main__':\n",
    "    eggs = add(spam, ham)"
   ]
  },
  {
   "cell_type": "code",
   "execution_count": null,
   "id": "7976c80c",
   "metadata": {},
   "outputs": [],
   "source": [
    "#### 모듈 이름 그대로 가져오는 방법"
   ]
  },
  {
   "cell_type": "code",
   "execution_count": null,
   "id": "ba1b0a46",
   "metadata": {},
   "outputs": [],
   "source": [
    "import list_ops\n",
    "\n",
    "foo = [1, 2, 3, 4, 5]\n",
    "bar = [1, 2, 3, 4]\n",
    "gor = list_ops.add(foo, bar)\n",
    "print(f\"{foo} + {bar} = {gor}\")\n",
    "# => [1, 2, 3, 4, 5] + [1, 2, 3, 4] = [2, 4, 6, 8]\n",
    "print(f\"list_ops.spam: {list_ops.spam}\")\n",
    "# => list_ops.spam: [11, 22]\n",
    "gor = list_ops.multiply(list_ops.spam, list_ops.ham)\n",
    "print(f\"{list_ops.spam} * {list_ops.ham} = {gor}\")\n",
    "# => [11, 22] * [33, 44] = [363, 968]"
   ]
  },
  {
   "cell_type": "code",
   "execution_count": null,
   "id": "6196dba8",
   "metadata": {},
   "outputs": [],
   "source": [
    "import list_ops\n",
    "\n",
    "try:\n",
    "    print(\"list_ops.eggs: {}\".format(list_ops.eggs))\n",
    "except Exception as e:\n",
    "    print(e)\n",
    "    # => module 'list_ops' has no attribute 'eggs'"
   ]
  },
  {
   "cell_type": "code",
   "execution_count": null,
   "id": "9d72e82e",
   "metadata": {},
   "outputs": [],
   "source": [
    "#### 모듈 이름을 바꿔서 가져오는 방법"
   ]
  },
  {
   "cell_type": "code",
   "execution_count": null,
   "id": "30c9e9ac",
   "metadata": {},
   "outputs": [],
   "source": [
    "import list_ops as l_o\n",
    "\n",
    "gor = l_o.subtract(foo, bar)\n",
    "print(\"{} + {} = {}\".format(foo, bar, gor))\n",
    "gor = l_o.divide(bar, foo)\n",
    "print(\"{} * {} = {}\".format(bar, foo, gor))"
   ]
  },
  {
   "cell_type": "code",
   "execution_count": null,
   "id": "aaaa4e29",
   "metadata": {},
   "outputs": [],
   "source": [
    "#### 모듈에서 지정한 객체만 가져오는 방법"
   ]
  },
  {
   "cell_type": "code",
   "execution_count": null,
   "id": "3ed0c9f3",
   "metadata": {},
   "outputs": [],
   "source": [
    "from list_ops import add, subtract, spam\n",
    "\n",
    "gor = add(foo, bar)\n",
    "print(f\"{foo} + {bar} = {gor}\")\n",
    "gor = subtract(bar, foo)\n",
    "print(f\"{bar} - {foo} = {gor}\")\n",
    "print(f\"spam = {spam}\")"
   ]
  },
  {
   "cell_type": "code",
   "execution_count": null,
   "id": "05aaf422",
   "metadata": {},
   "outputs": [],
   "source": []
  }
 ],
 "metadata": {
  "kernelspec": {
   "display_name": "Python 3 (ipykernel)",
   "language": "python",
   "name": "python3"
  },
  "language_info": {
   "codemirror_mode": {
    "name": "ipython",
    "version": 3
   },
   "file_extension": ".py",
   "mimetype": "text/x-python",
   "name": "python",
   "nbconvert_exporter": "python",
   "pygments_lexer": "ipython3",
   "version": "3.7.8"
  }
 },
 "nbformat": 4,
 "nbformat_minor": 5
}
